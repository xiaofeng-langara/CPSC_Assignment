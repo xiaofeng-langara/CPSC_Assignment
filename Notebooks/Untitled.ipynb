{
 "cells": [
  {
   "cell_type": "markdown",
   "id": "f85fb211",
   "metadata": {},
   "source": [
    "# CPSC_Assignment\n",
    "## - Notebook: \n",
    "        - assignment 3-1\n",
    "        - assignment 3-2: perform explorotary data analysis for \"titanic\" dataset\n",
    "        - assignment 3-3: perform explorotary data analysis for \"train_house_price\" dataset\n",
    "## - Doc: \n",
    "        - assignment 3-2 conclusion for for \"titanic\" dataset\n",
    "        - assignment 3-3 conclusion for \"train_house_price\" dataset\n",
    "     \n",
    "   "
   ]
  },
  {
   "cell_type": "markdown",
   "id": "a582282e",
   "metadata": {},
   "source": []
  },
  {
   "cell_type": "code",
   "execution_count": null,
   "id": "b24ffa50",
   "metadata": {},
   "outputs": [],
   "source": []
  }
 ],
 "metadata": {
  "kernelspec": {
   "display_name": "Python 3 (ipykernel)",
   "language": "python",
   "name": "python3"
  },
  "language_info": {
   "codemirror_mode": {
    "name": "ipython",
    "version": 3
   },
   "file_extension": ".py",
   "mimetype": "text/x-python",
   "name": "python",
   "nbconvert_exporter": "python",
   "pygments_lexer": "ipython3",
   "version": "3.9.13"
  }
 },
 "nbformat": 4,
 "nbformat_minor": 5
}
