{
 "cells": [
  {
   "cell_type": "markdown",
   "id": "250fd854",
   "metadata": {},
   "source": [
    "# CPSC_Assignment\n",
    "## Assignment3 \n",
    "### - Notebook: \n",
    "        - assignment 3-1: SF Salaries Exercise \n",
    "        - assignment 3-2: perform explorotary data analysis for \"titanic\" dataset\n",
    "        - assignment 3-3: perform explorotary data analysis for \"train_house_price\" dataset\n",
    "### - Doc: \n",
    "        - assignment 3-2 conclusion for for \"titanic\" dataset\n",
    "        - assignment 3-3 conclusion for \"train_house_price\" dataset\n",
    "### - Data:\n",
    "        - assignment 3-1:Salaries.csv\n",
    "        - assignment 3-2:titanic.csv\n",
    "        - assignment 3-3:train_house_price.csv\n",
    "   "
   ]
  },
  {
   "cell_type": "markdown",
   "id": "04dacb92",
   "metadata": {},
   "source": []
  },
  {
   "cell_type": "code",
   "execution_count": null,
   "id": "faac1bee",
   "metadata": {},
   "outputs": [],
   "source": []
  }
 ],
 "metadata": {
  "kernelspec": {
   "display_name": "Python 3 (ipykernel)",
   "language": "python",
   "name": "python3"
  },
  "language_info": {
   "codemirror_mode": {
    "name": "ipython",
    "version": 3
   },
   "file_extension": ".py",
   "mimetype": "text/x-python",
   "name": "python",
   "nbconvert_exporter": "python",
   "pygments_lexer": "ipython3",
   "version": "3.9.13"
  }
 },
 "nbformat": 4,
 "nbformat_minor": 5
}
